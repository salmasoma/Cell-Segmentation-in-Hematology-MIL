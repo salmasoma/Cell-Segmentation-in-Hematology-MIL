{
 "cells": [
  {
   "cell_type": "code",
   "execution_count": 3,
   "metadata": {},
   "outputs": [],
   "source": [
    "from PIL import Image\n",
    "import os\n",
    "\n",
    "def resize_images(input_folder, output_folder, target_size):\n",
    "    # Create output folder if it doesn't exist\n",
    "    if not os.path.exists(output_folder):\n",
    "        os.makedirs(output_folder)\n",
    "\n",
    "    # Loop through all files and subdirectories in the input folder\n",
    "    for root, dirs, files in os.walk(input_folder):\n",
    "        for filename in files:\n",
    "            # Check if the file is an image\n",
    "            if filename.endswith(('.jpg', '.jpeg', '.png', '.bmp')):\n",
    "                # Open the image file\n",
    "                with Image.open(os.path.join(root, filename)) as img:\n",
    "                    # Resize the image\n",
    "                    resized_img = img.resize(target_size, Image.LANCZOS)\n",
    "                    # Get the relative path of the input folder\n",
    "                    relative_path = os.path.relpath(root, input_folder)\n",
    "                    # Create subdirectories in the output folder if necessary\n",
    "                    output_subfolder = os.path.join(output_folder, relative_path)\n",
    "                    if not os.path.exists(output_subfolder):\n",
    "                        os.makedirs(output_subfolder)\n",
    "                    # Save the resized image to the output folder\n",
    "                    resized_img.save(os.path.join(output_subfolder, filename))\n",
    "\n",
    "# Specify input and output folders\n",
    "input_folder = \"/home/salma.hassan/AI702/Project/MUSTANG-main/data/train\"\n",
    "output_folder = \"/home/salma.hassan/AI702/Project/MUSTANG-main/data/train-448\"\n",
    "\n",
    "# Target size for resizing\n",
    "target_size = (448, 448)\n",
    "\n",
    "# Call the function to resize images\n",
    "resize_images(input_folder, output_folder, target_size)\n"
   ]
  },
  {
   "cell_type": "code",
   "execution_count": 2,
   "metadata": {},
   "outputs": [
    {
     "ename": "AttributeError",
     "evalue": "module 'PIL.Image' has no attribute 'ANTIALIAS'",
     "output_type": "error",
     "traceback": [
      "\u001b[0;31m---------------------------------------------------------------------------\u001b[0m",
      "\u001b[0;31mAttributeError\u001b[0m                            Traceback (most recent call last)",
      "\u001b[1;32m/home/salma.hassan/AI702/Project/MUSTANG-main/resizing.ipynb Cell 1\u001b[0m line \u001b[0;36m3\n\u001b[1;32m     <a href='vscode-notebook-cell://10.127.30.63:8080/home/salma.hassan/AI702/Project/MUSTANG-main/resizing.ipynb#W2sdnNjb2RlLXJlbW90ZQ%3D%3D?line=31'>32</a>\u001b[0m target_size \u001b[39m=\u001b[39m (\u001b[39m448\u001b[39m, \u001b[39m448\u001b[39m)\n\u001b[1;32m     <a href='vscode-notebook-cell://10.127.30.63:8080/home/salma.hassan/AI702/Project/MUSTANG-main/resizing.ipynb#W2sdnNjb2RlLXJlbW90ZQ%3D%3D?line=33'>34</a>\u001b[0m \u001b[39m# Call the function to resize images\u001b[39;00m\n\u001b[0;32m---> <a href='vscode-notebook-cell://10.127.30.63:8080/home/salma.hassan/AI702/Project/MUSTANG-main/resizing.ipynb#W2sdnNjb2RlLXJlbW90ZQ%3D%3D?line=34'>35</a>\u001b[0m resize_images(input_folder, output_folder, target_size)\n",
      "\u001b[1;32m/home/salma.hassan/AI702/Project/MUSTANG-main/resizing.ipynb Cell 1\u001b[0m line \u001b[0;36m1\n\u001b[1;32m     <a href='vscode-notebook-cell://10.127.30.63:8080/home/salma.hassan/AI702/Project/MUSTANG-main/resizing.ipynb#W2sdnNjb2RlLXJlbW90ZQ%3D%3D?line=12'>13</a>\u001b[0m \u001b[39mif\u001b[39;00m filename\u001b[39m.\u001b[39mendswith((\u001b[39m'\u001b[39m\u001b[39m.jpg\u001b[39m\u001b[39m'\u001b[39m, \u001b[39m'\u001b[39m\u001b[39m.jpeg\u001b[39m\u001b[39m'\u001b[39m, \u001b[39m'\u001b[39m\u001b[39m.png\u001b[39m\u001b[39m'\u001b[39m, \u001b[39m'\u001b[39m\u001b[39m.bmp\u001b[39m\u001b[39m'\u001b[39m)):\n\u001b[1;32m     <a href='vscode-notebook-cell://10.127.30.63:8080/home/salma.hassan/AI702/Project/MUSTANG-main/resizing.ipynb#W2sdnNjb2RlLXJlbW90ZQ%3D%3D?line=13'>14</a>\u001b[0m     \u001b[39m# Open the image file\u001b[39;00m\n\u001b[1;32m     <a href='vscode-notebook-cell://10.127.30.63:8080/home/salma.hassan/AI702/Project/MUSTANG-main/resizing.ipynb#W2sdnNjb2RlLXJlbW90ZQ%3D%3D?line=14'>15</a>\u001b[0m     \u001b[39mwith\u001b[39;00m Image\u001b[39m.\u001b[39mopen(os\u001b[39m.\u001b[39mpath\u001b[39m.\u001b[39mjoin(root, filename)) \u001b[39mas\u001b[39;00m img:\n\u001b[1;32m     <a href='vscode-notebook-cell://10.127.30.63:8080/home/salma.hassan/AI702/Project/MUSTANG-main/resizing.ipynb#W2sdnNjb2RlLXJlbW90ZQ%3D%3D?line=15'>16</a>\u001b[0m         \u001b[39m# Resize the image\u001b[39;00m\n\u001b[0;32m---> <a href='vscode-notebook-cell://10.127.30.63:8080/home/salma.hassan/AI702/Project/MUSTANG-main/resizing.ipynb#W2sdnNjb2RlLXJlbW90ZQ%3D%3D?line=16'>17</a>\u001b[0m         resized_img \u001b[39m=\u001b[39m img\u001b[39m.\u001b[39mresize(target_size, Image\u001b[39m.\u001b[39;49mANTIALIAS)\n\u001b[1;32m     <a href='vscode-notebook-cell://10.127.30.63:8080/home/salma.hassan/AI702/Project/MUSTANG-main/resizing.ipynb#W2sdnNjb2RlLXJlbW90ZQ%3D%3D?line=17'>18</a>\u001b[0m         \u001b[39m# Get the relative path of the input folder\u001b[39;00m\n\u001b[1;32m     <a href='vscode-notebook-cell://10.127.30.63:8080/home/salma.hassan/AI702/Project/MUSTANG-main/resizing.ipynb#W2sdnNjb2RlLXJlbW90ZQ%3D%3D?line=18'>19</a>\u001b[0m         relative_path \u001b[39m=\u001b[39m os\u001b[39m.\u001b[39mpath\u001b[39m.\u001b[39mrelpath(root, input_folder)\n",
      "\u001b[0;31mAttributeError\u001b[0m: module 'PIL.Image' has no attribute 'ANTIALIAS'"
     ]
    }
   ],
   "source": [
    "from PIL import Image\n",
    "import os\n",
    "\n",
    "def resize_images(input_folder, output_folder, target_size):\n",
    "    # Create output folder if it doesn't exist\n",
    "    if not os.path.exists(output_folder):\n",
    "        os.makedirs(output_folder)\n",
    "\n",
    "    # Loop through all files and subdirectories in the input folder\n",
    "    for root, dirs, files in os.walk(input_folder):\n",
    "        for filename in files:\n",
    "            # Check if the file is an image\n",
    "            if filename.endswith(('.jpg', '.jpeg', '.png', '.bmp')):\n",
    "                # Open the image file\n",
    "                with Image.open(os.path.join(root, filename)) as img:\n",
    "                    # Resize the image\n",
    "                    resized_img = img.resize(target_size, Image.ANTIALIAS)\n",
    "                    # Get the relative path of the input folder\n",
    "                    relative_path = os.path.relpath(root, input_folder)\n",
    "                    # Create subdirectories in the output folder if necessary\n",
    "                    output_subfolder = os.path.join(output_folder, relative_path)\n",
    "                    if not os.path.exists(output_subfolder):\n",
    "                        os.makedirs(output_subfolder)\n",
    "                    # Save the resized image to the output folder\n",
    "                    resized_img.save(os.path.join(output_subfolder, filename))\n",
    "\n",
    "# Specify input and output folders\n",
    "input_folder = \"/home/salma.hassan/AI702/Project/MUSTANG-main/data/train\"\n",
    "output_folder = \"/home/salma.hassan/AI702/Project/MUSTANG-main/data/train-448\"\n",
    "\n",
    "# Target size for resizing\n",
    "target_size = (448, 448)\n",
    "\n",
    "# Call the function to resize images\n",
    "resize_images(input_folder, output_folder, target_size)\n"
   ]
  },
  {
   "cell_type": "code",
   "execution_count": 1,
   "metadata": {},
   "outputs": [],
   "source": [
    "from PIL import Image\n",
    "import os\n",
    "\n",
    "def resize_images(input_folder, output_folder, target_size):\n",
    "    # Create output folder if it doesn't exist\n",
    "    if not os.path.exists(output_folder):\n",
    "        os.makedirs(output_folder)\n",
    "\n",
    "    # Loop through all files in the input folder\n",
    "    for filename in os.listdir(input_folder):\n",
    "        # Check if the file is an image\n",
    "        if filename.endswith(('.jpg', '.jpeg', '.png', '.bmp')):\n",
    "            # Open the image file\n",
    "            with Image.open(os.path.join(input_folder, filename)) as img:\n",
    "                # Resize the image\n",
    "                resized_img = img.resize(target_size, Image.ANTIALIAS)\n",
    "                # Save the resized image to the output folder\n",
    "                resized_img.save(os.path.join(output_folder, filename))\n",
    "\n",
    "# Specify input and output folders\n",
    "input_folder = \"/home/salma.hassan/AI702/Project/MUSTANG-main/data/train\"\n",
    "output_folder = \"/home/salma.hassan/AI702/Project/MUSTANG-main/data/train-448\"\n",
    "\n",
    "# Target size for resizing\n",
    "target_size = (448, 448)\n",
    "\n",
    "# Call the function to resize images\n",
    "resize_images(input_folder, output_folder, target_size)\n"
   ]
  },
  {
   "cell_type": "code",
   "execution_count": null,
   "metadata": {},
   "outputs": [],
   "source": []
  }
 ],
 "metadata": {
  "kernelspec": {
   "display_name": "env",
   "language": "python",
   "name": "python3"
  },
  "language_info": {
   "codemirror_mode": {
    "name": "ipython",
    "version": 3
   },
   "file_extension": ".py",
   "mimetype": "text/x-python",
   "name": "python",
   "nbconvert_exporter": "python",
   "pygments_lexer": "ipython3",
   "version": "3.10.13"
  }
 },
 "nbformat": 4,
 "nbformat_minor": 2
}
