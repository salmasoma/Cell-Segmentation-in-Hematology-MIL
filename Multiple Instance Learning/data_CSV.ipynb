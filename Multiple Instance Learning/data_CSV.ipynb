{
 "cells": [
  {
   "cell_type": "code",
   "execution_count": 1,
   "metadata": {},
   "outputs": [],
   "source": [
    "import os\n",
    "import pandas as pd\n",
    "import sys"
   ]
  },
  {
   "cell_type": "code",
   "execution_count": 2,
   "metadata": {},
   "outputs": [],
   "source": [
    "train_path = '/home/salma.hassan/AI702/Project/MUSTANG-main/data/train'"
   ]
  },
  {
   "cell_type": "code",
   "execution_count": 2,
   "metadata": {},
   "outputs": [],
   "source": [
    "import os\n",
    "import csv\n",
    "\n",
    "def create_csv(directory, output_file='output_test.csv'):\n",
    "    # Dictionary to store label encodings\n",
    "    label_encodings = {\"ALL\": 4, \"AML\": 1, \"CLL\": 0, \"CML\": 3,\"NORMAL\": 2}\n",
    "    current_label = 0\n",
    "\n",
    "    # Prepare to write to CSV\n",
    "    with open(output_file, 'w', newline='') as file:\n",
    "        writer = csv.writer(file)\n",
    "        # Write the headers\n",
    "        writer.writerow(['Filename', 'Location', 'Subtype', 'Patient ID', 'label'])\n",
    "        \n",
    "        # Walk through all files in the directory\n",
    "        for dirpath, _, filenames in os.walk(directory):\n",
    "            subtype = os.path.basename(dirpath)\n",
    "            for filename in filenames:\n",
    "                # Check if the file is an image or relevant file\n",
    "                if filename.lower().endswith(('.png', '.jpg', '.jpeg', '.bmp', '.gif', '.tiff')):\n",
    "                    # Create full path\n",
    "                    location = os.path.join(dirpath, filename)\n",
    "                    # Remove extension and '_overlayed' from filename to get Patient ID\n",
    "                    patient_id = filename.replace('_overlayed', '').rsplit('.', 1)[0]\n",
    "                    # Get or create label encoding for the subtype\n",
    "                    if subtype not in label_encodings:\n",
    "                        label_encodings[subtype] = current_label\n",
    "                        current_label += 1\n",
    "                    label = label_encodings[subtype]\n",
    "                    # Write data to CSV\n",
    "                    writer.writerow([filename, location, subtype, patient_id, label])\n",
    "\n",
    "# Example usage:\n",
    "directory_path = '/home/salma.hassan/AI702/Project/MUSTANG-main/Org_Overlayed_train'\n",
    "directory_path = \"/home/salma.hassan/AI702/Project/MUSTANG-main/Org_Overlayed_test\"\n",
    "create_csv(directory_path)"
   ]
  },
  {
   "cell_type": "code",
   "execution_count": 5,
   "metadata": {},
   "outputs": [],
   "source": [
    "import os\n",
    "import csv\n",
    "import re  # Import regular expressions\n",
    "\n",
    "def create_csv(directory, output_file='patch_test.csv'):\n",
    "    # Dictionary to store label encodings\n",
    "    label_encodings = {\"ALL\": 4, \"AML\": 1, \"CLL\": 0, \"CML\": 3, \"NORMAL\": 2}\n",
    "    current_label = 0\n",
    "\n",
    "    # Prepare to write to CSV\n",
    "    with open(output_file, 'w', newline='') as file:\n",
    "        writer = csv.writer(file)\n",
    "        # Write the headers\n",
    "        writer.writerow(['Filename', 'Location', 'Subtype', 'Patient ID', 'label'])\n",
    "        \n",
    "        # Walk through all files in the directory\n",
    "        for dirpath, _, filenames in os.walk(directory):\n",
    "            subtype = os.path.basename(dirpath)\n",
    "            for filename in filenames:\n",
    "                # Check if the file is an image or relevant file\n",
    "                if filename.lower().endswith(('.png', '.jpg', '.jpeg', '.bmp', '.gif', '.tiff')):\n",
    "                    # Create full path\n",
    "                    location = os.path.join(dirpath, filename)\n",
    "                    # Remove extension and '_overlayed' from filename to get Patient ID\n",
    "                    patient_id = re.sub(r'_(\\d+)(\\.[\\w\\d]+)$', '', filename)  # Use regex to remove last underscore followed by a number and extension\n",
    "                    # Get or create label encoding for the subtype\n",
    "                    if subtype not in label_encodings:\n",
    "                        label_encodings[subtype] = current_label\n",
    "                        current_label += 1\n",
    "                    label = label_encodings[subtype]\n",
    "                    # Write data to CSV\n",
    "                    writer.writerow([filename, location, subtype, patient_id, label])\n",
    "\n",
    "# Example usage:\n",
    "directory_path = '/l/users/dawlat.akaila/patched_data/val'\n",
    "create_csv(directory_path)\n"
   ]
  },
  {
   "cell_type": "code",
   "execution_count": null,
   "metadata": {},
   "outputs": [],
   "source": []
  }
 ],
 "metadata": {
  "kernelspec": {
   "display_name": "env",
   "language": "python",
   "name": "python3"
  },
  "language_info": {
   "codemirror_mode": {
    "name": "ipython",
    "version": 3
   },
   "file_extension": ".py",
   "mimetype": "text/x-python",
   "name": "python",
   "nbconvert_exporter": "python",
   "pygments_lexer": "ipython3",
   "version": "3.10.13"
  },
  "orig_nbformat": 4
 },
 "nbformat": 4,
 "nbformat_minor": 2
}
