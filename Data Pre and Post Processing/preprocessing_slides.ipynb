{
 "cells": [
  {
   "cell_type": "code",
   "execution_count": null,
   "metadata": {},
   "outputs": [],
   "source": [
    "import  cv2\n",
    "import numpy as np\n",
    "import os\n",
    "from albumentations import Compose, Resize\n",
    "from PIL import Image\n",
    "import torch\n",
    "from torchvision import transforms\n",
    "import torchstain"
   ]
  },
  {
   "cell_type": "code",
   "execution_count": null,
   "metadata": {},
   "outputs": [],
   "source": [
    "target = cv2.cvtColor(cv2.imread(\"/home/dawlat.akaila/Documents/DL_LABS/PROJECT/ref2.jpg\"), cv2.COLOR_BGR2RGB)\n",
    "T = transforms.Compose([\n",
    "transforms.ToTensor(),\n",
    "transforms.Lambda(lambda x: x*255)\n",
    "])\n",
    "normalizer = torchstain.normalizers.ReinhardNormalizer(backend='torch')\n",
    "normalizer.fit(T(target))\n",
    " \n",
    "# Preprocessing\n",
    "def normalization(img):\n",
    "    to_transform = cv2.cvtColor(img, cv2.COLOR_BGR2RGB)\n",
    "    t_to_transform = T(to_transform)\n",
    "    norm = normalizer.normalize(I=t_to_transform)\n",
    "    norm = np.array(norm).astype(np.uint8)\n",
    "    return norm\n",
    "\n",
    "transform = Compose([Resize(max_size=448)])"
   ]
  },
  {
   "cell_type": "code",
   "execution_count": null,
   "metadata": {},
   "outputs": [],
   "source": [
    "# walk through a directory and apply the function to all images and resize \n",
    "image_folder = '/l/users/20020065/leuk/ai702/data/val/CLL'\n",
    "save_folder = '/home/dawlat.akaila/Documents/DL_LABS/PROJECT/Processed_Data/Train/CLL'\n",
    "for filename in os.listdir(image_folder):\n",
    "        if filename.endswith(('.png', '.jpg', '.jpeg', '.tif','.tiff')):  # Adjust the extension based on your images\n",
    "            image_path = os.path.join(image_folder, filename)\n",
    "            # Load image\n",
    "            image = cv2.imread(image_path)\n",
    "            # resize image\n",
    "            image = transform(image=image)['image']\n",
    "            # Normalize image\n",
    "            image = normalization(image)\n",
    "            # Save image\n",
    "            cv2.imwrite(os.path.join(save_folder, filename), image)"
   ]
  }
 ],
 "metadata": {
  "language_info": {
   "name": "python"
  }
 },
 "nbformat": 4,
 "nbformat_minor": 2
}
