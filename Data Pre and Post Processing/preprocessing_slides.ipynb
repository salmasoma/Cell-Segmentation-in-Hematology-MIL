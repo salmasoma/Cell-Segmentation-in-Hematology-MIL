{
 "cells": [
  {
   "cell_type": "code",
   "execution_count": 9,
   "metadata": {},
   "outputs": [],
   "source": [
    "import  cv2\n",
    "import numpy as np\n",
    "import os\n",
    "from albumentations import Compose, Resize\n",
    "from PIL import Image\n",
    "import torch\n",
    "from torchvision import transforms\n",
    "import torchstain\n",
    "from tqdm import tqdm"
   ]
  },
  {
   "cell_type": "code",
   "execution_count": 5,
   "metadata": {},
   "outputs": [],
   "source": [
    "target = cv2.cvtColor(cv2.imread(\"/home/dawlat.akaila/Documents/DL_LABS/PROJECT/ref2.jpg\"), cv2.COLOR_BGR2RGB)\n",
    "T = transforms.Compose([\n",
    "transforms.ToTensor(),\n",
    "transforms.Lambda(lambda x: x*255)\n",
    "])\n",
    "normalizer = torchstain.normalizers.ReinhardNormalizer(backend='torch')\n",
    "normalizer.fit(T(target))\n",
    " \n",
    "# Preprocessing\n",
    "def normalization(img):\n",
    "    to_transform = cv2.cvtColor(img, cv2.COLOR_BGR2RGB)\n",
    "    t_to_transform = T(to_transform)\n",
    "    norm = normalizer.normalize(I=t_to_transform)\n",
    "    norm = np.array(norm).astype(np.uint8)\n",
    "    return norm\n",
    "\n",
    "transform = Compose([Resize(width=448, height=448)])"
   ]
  },
  {
   "cell_type": "code",
   "execution_count": 17,
   "metadata": {},
   "outputs": [
    {
     "name": "stderr",
     "output_type": "stream",
     "text": [
      "100%|██████████| 151/151 [00:19<00:00,  7.67it/s]\n"
     ]
    }
   ],
   "source": [
    "# walk through a directory and apply the function to all images and resize \n",
    "image_folder = '/l/users/20020065/leuk/ai702/data/val/CML'\n",
    "save_folder = '/home/dawlat.akaila/Documents/DL_LABS/PROJECT/Processed_Data/Val/CML'\n",
    "os.makedirs(save_folder, exist_ok=True)\n",
    "for filename in tqdm(os.listdir(image_folder)):\n",
    "        if filename.endswith(('.png', '.jpg', '.jpeg', '.tif','.tiff')):  # Adjust the extension based on your images\n",
    "            image_path = os.path.join(image_folder, filename)\n",
    "            # Load image\n",
    "            image = cv2.imread(image_path)\n",
    "            # resize image\n",
    "            image = transform(image=image)['image']\n",
    "            # Normalize image\n",
    "            image = normalization(image)\n",
    "            # Save image\n",
    "            cv2.imwrite(os.path.join(save_folder, filename), image)"
   ]
  }
 ],
 "metadata": {
  "kernelspec": {
   "display_name": "ai701",
   "language": "python",
   "name": "python3"
  },
  "language_info": {
   "codemirror_mode": {
    "name": "ipython",
    "version": 3
   },
   "file_extension": ".py",
   "mimetype": "text/x-python",
   "name": "python",
   "nbconvert_exporter": "python",
   "pygments_lexer": "ipython3",
   "version": "3.8.13"
  }
 },
 "nbformat": 4,
 "nbformat_minor": 2
}
