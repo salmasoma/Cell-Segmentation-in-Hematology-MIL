{
 "cells": [
  {
   "cell_type": "code",
   "execution_count": null,
   "metadata": {},
   "outputs": [],
   "source": [
    "target = cv2.cvtColor(cv2.imread(\"/home/dawlat.akaila/Documents/DL_LABS/PROJECT/ref2.jpg\"), cv2.COLOR_BGR2RGB)\n",
    "T = transforms.Compose([\n",
    "transforms.ToTensor(),\n",
    "transforms.Lambda(lambda x: x*255)\n",
    "])\n",
    "normalizer = torchstain.normalizers.ReinhardNormalizer(backend='torch')\n",
    "normalizer.fit(T(target))\n",
    " \n",
    "# Preprocessing\n",
    "def normalization(img):\n",
    "    to_transform = cv2.cvtColor(img, cv2.COLOR_BGR2RGB)\n",
    "    t_to_transform = T(to_transform)\n",
    "    norm = normalizer.normalize(I=t_to_transform)\n",
    "    norm = np.array(norm).astype(np.uint8)\n",
    "    return norm"
   ]
  }
 ],
 "metadata": {
  "language_info": {
   "name": "python"
  }
 },
 "nbformat": 4,
 "nbformat_minor": 2
}
