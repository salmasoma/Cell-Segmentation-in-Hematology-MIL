{
 "cells": [
  {
   "cell_type": "code",
   "execution_count": 1,
   "metadata": {},
   "outputs": [],
   "source": [
    "import os"
   ]
  },
  {
   "cell_type": "code",
   "execution_count": null,
   "metadata": {},
   "outputs": [],
   "source": [
    "DIR = \"./data/train\"\n",
    "OUTPUT = \"./data/train_no_aug\"\n",
    "\n",
    "#loop through the files in the subfolders in the directory\n",
    "for root, dirs, files in os.walk(DIR):\n",
    "    for file in files:\n",
    "        #if the estension is not .png\n",
    "        if not file.endswith(\".png\"):\n",
    "            #copy to OUTPUT\n",
    "            "
   ]
  },
  {
   "cell_type": "code",
   "execution_count": 2,
   "metadata": {},
   "outputs": [],
   "source": [
    "import os\n",
    "import shutil\n",
    "\n",
    "DIR = \"./data/val\"\n",
    "OUTPUT = \"./data/val_no_aug\"\n",
    "\n",
    "# Loop through the files in the subfolders in the directory\n",
    "for root, dirs, files in os.walk(DIR):\n",
    "    for file in files:\n",
    "        # Check if the extension is not .png\n",
    "        if not file.endswith(\".png\"):\n",
    "            # Construct the source path\n",
    "            source_path = os.path.join(root, file)\n",
    "            \n",
    "            # Construct the destination path\n",
    "            # Preserving the subfolder structure relative to DIR\n",
    "            relative_path = os.path.relpath(root, DIR)\n",
    "            destination_dir = os.path.join(OUTPUT, relative_path)\n",
    "            if not os.path.exists(destination_dir):\n",
    "                os.makedirs(destination_dir)\n",
    "            destination_path = os.path.join(destination_dir, file)\n",
    "            \n",
    "            # Copy to OUTPUT while maintaining the subfolder structure\n",
    "            shutil.copy(source_path, destination_path)"
   ]
  },
  {
   "cell_type": "code",
   "execution_count": null,
   "metadata": {},
   "outputs": [],
   "source": []
  }
 ],
 "metadata": {
  "kernelspec": {
   "display_name": "tensor",
   "language": "python",
   "name": "python3"
  },
  "language_info": {
   "codemirror_mode": {
    "name": "ipython",
    "version": 3
   },
   "file_extension": ".py",
   "mimetype": "text/x-python",
   "name": "python",
   "nbconvert_exporter": "python",
   "pygments_lexer": "ipython3",
   "version": "3.10.13"
  }
 },
 "nbformat": 4,
 "nbformat_minor": 2
}
